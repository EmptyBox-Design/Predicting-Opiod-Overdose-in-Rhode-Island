{
 "cells": [
  {
   "cell_type": "markdown",
   "metadata": {},
   "source": [
    "# Best GCN Model"
   ]
  },
  {
   "cell_type": "markdown",
   "metadata": {},
   "source": [
    "This is the best GCN model. The model was trained/tuned in the following ways:\n",
    "training set: 20162 - 20192\n",
    "test set: 20201\n",
    "\n",
    "model test LC20: ~35%\n",
    "*note the model LC20 performance varies for each run, because it trains using a random selection of samples\n",
    "*the model tends to perform in the mid 30%s\n",
    "\n",
    "The function to recreate this dataset for these models is provided. The original datasets for training and testing are also provided."
   ]
  },
  {
   "cell_type": "code",
   "execution_count": 2,
   "metadata": {},
   "outputs": [],
   "source": [
    "import torch\n",
    "from torch_geometric.data import Data\n",
    "import torch.nn.functional as F\n",
    "from torch_geometric.nn import GCNConv\n",
    "from torch_geometric.nn import GatedGraphConv\n",
    "from torch_geometric.nn import knn_graph\n",
    "from torch.nn import Linear\n",
    "import pandas as pd\n",
    "import numpy as np\n",
    "from datetime import datetime\n",
    "from random import randint\n",
    "import random\n",
    "import matplotlib.pyplot as plt\n",
    "random.seed(123)\n",
    "torch.manual_seed(123)\n",
    "from CUSP_functions import evaluator\n",
    "from CUSP_functions import generate_featureset"
   ]
  },
  {
   "cell_type": "markdown",
   "metadata": {},
   "source": [
    "# Generate and prepare training data"
   ]
  },
  {
   "cell_type": "code",
   "execution_count": 3,
   "metadata": {},
   "outputs": [
    {
     "name": "stdout",
     "output_type": "stream",
     "text": [
      "dataset_v4_0729_214712_A_rank_stand__roll_shift_min.pkl\n",
      "total_features: 291\n"
     ]
    }
   ],
   "source": [
    "data = generate_featureset('A', 'rank', 'pkl', scale = 'standardize', roll_avg = True, \n",
    "                    pca = False, shift = True, train_periods = [20162, 20171, 20172, 20181, 20182, 20191, 20192],\n",
    "                   test_periods = [20201], ties = 'min', geo = False, spatial = 'all')"
   ]
  },
  {
   "cell_type": "code",
   "execution_count": 4,
   "metadata": {},
   "outputs": [],
   "source": [
    "#copy dataset for tuning\n",
    "unwanted_cbgs = [440099901000, 440099902000, 440059900000, 440050401031] #remove unwanted cbgs\n",
    "dataset = data[~data['geoid'].isin(unwanted_cbgs)]"
   ]
  },
  {
   "cell_type": "code",
   "execution_count": 5,
   "metadata": {},
   "outputs": [],
   "source": [
    "#get geoids for final evaluation\n",
    "geoids = np.unique(dataset['geoid'].sort_values().values) #separate out geoids\n",
    "\n",
    "#lets train on 20162-20192 and test on 20201\n",
    "train = dataset.loc[ dataset['label'] == 'train'] #select training labels\n",
    "\n",
    "cols = list(train.columns) #get list of columns\n",
    "\n",
    "#remove features we don't want to train on\n",
    "cols_to_exclude = set(['geoid', 'label', 'overdose_rank', 'full_period]) \n",
    "cols = list(set(cols) - cols_to_exclude)
    "\n",
    "#select training features and convert to array\n",
    "x_train = train.loc[ : , cols].to_numpy() \n",
    "\n",
    "#get target variable\n",
    "y_train = dataset.loc[ dataset['label'] == 'train', 'overdose_rank' ].to_numpy()\n",
    "y_train = np.array([ [y] for y in y_train]) #unnest it and convert to array\n",
    "\n",
    "#convert to tensors\n",
    "x_train = torch.tensor(x_train, dtype = torch.float)\n",
    "y_train = torch.tensor(y_train, dtype = torch.float)"
   ]
  },
  {
   "cell_type": "markdown",
   "metadata": {},
   "source": [
    "# Define functions to create graph and find edge weights"
   ]
  },
  {
   "cell_type": "code",
   "execution_count": 6,
   "metadata": {},
   "outputs": [],
   "source": [
    "#these functions will calculate the euclidean distance between nodes across the *feature space*\n",
    "#credit to Konstantin Klemmer for these functions\n",
    "\n",
    "def haversine(lon1, lat1, lon2, lat2): \n",
    "\n",
    "    \"\"\"\n",
    "\n",
    "    Calculate the great circle distance between two points \n",
    "\n",
    "    on the earth (specified in decimal degrees)\n",
    "\n",
    "    \"\"\"\n",
    "    lon1, lat1, lon2, lat2 = map(radians, [lon1, lat1, lon2, lat2])\n",
    "    # haversine\n",
    "    dlon = lon2 - lon1 \n",
    "    dlat = lat2 - lat1 \n",
    "    a = sin(dlat/2)**2 + cos(lat1) * cos(lat2) * sin(dlon/2)**2\n",
    "    c = 2 * asin(sqrt(a)) \n",
    "    r = 6371 \n",
    "    return c * r * 1000\n",
    "\n",
    "\n",
    "# Helper function for 2+d distance\n",
    "\n",
    "def newDistance(a, b, nd_dist=\"euclidean\"):  \n",
    "    import math\n",
    "    # Distance options are [\"great_circle\" (2D only), \"euclidean\", \"wasserstein\" (for higher-dimensional coordinate embeddings)]\n",
    "\n",
    "    if a.shape[0]==2:\n",
    "        x1, y1 = a[0], a[1]\n",
    "        x2, y2 = b[0], b[1]\n",
    "        if nd_dist==\"euclidean\":\n",
    "            d = math.sqrt( ((x1-x2)**2)+((y1-y2)**2))\n",
    "        else:\n",
    "            d = haversine(x1,y1,x2,y2)\n",
    "\n",
    "    if a.shape[0]==3:\n",
    "        x1, y1, z1 = a[0], a[1], a[2]\n",
    "        x2, y2, z2 = b[0], b[1], b[2]\n",
    "        d = math.sqrt(math.pow(x2 - x1, 2) +\n",
    "            math.pow(y2 - y1, 2) +\n",
    "            math.pow(z2 - z1, 2)* 1.0) \n",
    "\n",
    "    if a.shape[0]>3:\n",
    "        if nd_dist==\"wasserstein\":\n",
    "            d = wasserstein_distance(a.reshape(-1).detach(),b.reshape(-1).detach())\n",
    "            #d = sgw_cpu(a.reshape(1,-1).detach(),b.reshape(1,-1).detach())\n",
    "        else:\n",
    "            d = torch.pow(a.reshape(1,1,-1) - b.reshape(1,1,-1), 2).sum(2) \n",
    "    return d \n",
    "\n",
    " \n",
    "\n",
    "# Helper function for edge weights\n",
    "\n",
    "def makeEdgeWeight(x, edge_index):\n",
    "    try:\n",
    "        to = edge_index[0]\n",
    "        fro = edge_index[1]\n",
    "        edge_weight = []\n",
    "        for i in range(len(to)):\n",
    "            edge_weight.append(newDistance(x[to[i]],x[fro[i]])) # probably want to do inverse distance eventually\n",
    "        max_val = max(edge_weight)\n",
    "        rng = max_val - min(edge_weight)\n",
    "        edge_weight = [(max_val - elem) / rng for elem in edge_weight]\n",
    "    except Exception as e:\n",
    "        print(e)\n",
    "        print(edge_index)\n",
    "        print(edge_weight)\n",
    "        print(first_node)\n",
    "        print(last_node)\n",
    "\n",
    "    return torch.Tensor(edge_weight)"
   ]
  },
  {
   "cell_type": "markdown",
   "metadata": {},
   "source": [
    "# Define GCN architecture"
   ]
  },
  {
   "cell_type": "code",
   "execution_count": 7,
   "metadata": {},
   "outputs": [],
   "source": [
    "#get number of features in and out\n",
    "num_feature_in = x_train.shape[1]\n",
    "num_features_out = 1\n",
    "\n",
    "class Net(torch.nn.Module):\n",
    "    def __init__(self, num_features_in=num_feature_in, num_features_out=1, k=5): # k indicates number of nearest neighbors\n",
    "        super(Net, self).__init__()\n",
    "        self.device = torch.device('cuda' if torch.cuda.is_available() else 'cpu') #use cpu if there is no gpu\n",
    "        self.k = k\n",
    "        self.conv1 = GCNConv(num_features_in, 32) #set graph convolution layers, 32 channels each\n",
    "        self.conv2 = GCNConv(32, 32)\n",
    "        self.conv3 = GCNConv(32, 32)\n",
    "        self.fc = Linear(32, num_features_out)\n",
    "\n",
    "    def forward(self, x, c):\n",
    "        x = x.float() #features\n",
    "        c = c.float() \n",
    "        #ideally, the above 'c' is unnecessary since we are making the graph from features, not coordinates\n",
    "        #however, we are retaining it in the event a future user wants to feed in positional coordinates\n",
    "        \n",
    "        edge_index = knn_graph(c, k=self.k).to(self.device) #makes knn graph using k specified above\n",
    "        edge_weight = makeEdgeWeight(c, edge_index).to(self.device) #find edge weights based on distance\n",
    "        h1 = F.relu(self.conv1(x, edge_index, edge_weight)) #run through layers using ReLU and dropout\n",
    "        h1 = F.dropout(h1, p = 0.25, training=self.training)\n",
    "        h2 = F.relu(self.conv2(h1, edge_index, edge_weight))\n",
    "        h2 = F.dropout(h2, p = 0.25, training=self.training)\n",
    "        h3 = F.relu(self.conv3(h2, edge_index, edge_weight))\n",
    "        h3 = F.dropout(h3, p = 0.25, training=self.training)\n",
    "        output = self.fc(h3)\n",
    "        return output"
   ]
  },
  {
   "cell_type": "markdown",
   "metadata": {},
   "source": [
    "# Train model"
   ]
  },
  {
   "cell_type": "code",
   "execution_count": 8,
   "metadata": {
    "scrolled": true
   },
   "outputs": [
    {
     "name": "stdout",
     "output_type": "stream",
     "text": [
      "tensor(0.1530, grad_fn=<MseLossBackward>)\n",
      "tensor(0.1233, grad_fn=<MseLossBackward>)\n",
      "tensor(0.1170, grad_fn=<MseLossBackward>)\n",
      "tensor(0.1158, grad_fn=<MseLossBackward>)\n",
      "tensor(0.1112, grad_fn=<MseLossBackward>)\n",
      "tensor(0.1086, grad_fn=<MseLossBackward>)\n",
      "tensor(0.1007, grad_fn=<MseLossBackward>)\n",
      "tensor(0.0992, grad_fn=<MseLossBackward>)\n",
      "tensor(0.0969, grad_fn=<MseLossBackward>)\n",
      "tensor(0.0937, grad_fn=<MseLossBackward>)\n",
      "tensor(0.0893, grad_fn=<MseLossBackward>)\n",
      "tensor(0.0868, grad_fn=<MseLossBackward>)\n",
      "tensor(0.0861, grad_fn=<MseLossBackward>)\n",
      "tensor(0.0844, grad_fn=<MseLossBackward>)\n",
      "tensor(0.0840, grad_fn=<MseLossBackward>)\n",
      "tensor(0.0828, grad_fn=<MseLossBackward>)\n",
      "tensor(0.0828, grad_fn=<MseLossBackward>)\n"
     ]
    },
    {
     "data": {
      "image/png": "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\n",
      "text/plain": [
       "<Figure size 720x576 with 1 Axes>"
      ]
     },
     "metadata": {
      "needs_background": "light"
     },
     "output_type": "display_data"
    }
   ],
   "source": [
    "#get datetime for model saving\n",
    "now = datetime.now()\n",
    "date_time_string = str(now.month).zfill(2) + str(now.day).zfill(2) + \"_\" + str(now.hour + 2).zfill(2) + str(now.minute).zfill(2)\n",
    "\n",
    "#instantiance model\n",
    "device = torch.device('cpu') #set to cpu\n",
    "model = Net().to(device)\n",
    "optimizer = torch.optim.Adam(model.parameters(), lr = .01, weight_decay = 1e-4)\n",
    "\n",
    "model.train()\n",
    "best_loss = 1e4\n",
    "losses = []\n",
    "epochs = 250\n",
    "counter = 0\n",
    "\n",
    "total_samples = x_train.shape[0] #got total number of samples\n",
    "\n",
    "#run above number of epochs, only save model if current epoch loss < best_loss achieved \n",
    "#this model randomly selects a random number (between 512 and 811) of cbgs for each epoch. \n",
    "for epoch in range(epochs):\n",
    "    batch_size = randint(512, 811) #select ranom batch size\n",
    "    \n",
    "    # find index of first cbg of last batch, this is so batch does not spill over past last sample\n",
    "    last_batch_index = total_samples - batch_size - 1 \n",
    "    \n",
    "    # select timestep randomly\n",
    "    timestep = randint(0, last_batch_index) #randomly select a start index for the batch\n",
    "    #get timestep sample start and end indices\n",
    "    timestep_start = timestep\n",
    "    timestep_end = timestep_start + batch_size\n",
    "    \n",
    "    #slice training data according to random sample\n",
    "    x_step = x_train[timestep_start : timestep_end]\n",
    "    y_step = y_train[timestep_start : timestep_end]\n",
    "    \n",
    "    optimizer.zero_grad()\n",
    "    \n",
    "    #run model\n",
    "    pred = model(x_step, x_step) #note input here is (x, c), however in this case c =feature space and not coordinates\n",
    "    loss = F.mse_loss(pred, y_step) #find loss\n",
    "    loss.backward()\n",
    "    optimizer.step()\n",
    "    losses.append(loss.detach().numpy())\n",
    "    if loss < best_loss: #save model if loss is better than best_loss\n",
    "        best_model_state = model.state_dict()\n",
    "        best_loss = loss\n",
    "        print(best_loss)\n",
    "    \n",
    "    \n",
    "print(best_loss)\n",
    "\n",
    "#show chart of loss x epochs\n",
    "plt.figure(figsize = (10, 8))\n",
    "plt.plot(range(epochs), losses)\n",
    "plt.show()"
   ]
  },
  {
   "cell_type": "markdown",
   "metadata": {},
   "source": [
    "# Run test set / make predictions"
   ]
  },
  {
   "cell_type": "code",
   "execution_count": 9,
   "metadata": {},
   "outputs": [],
   "source": [
    "#separate test labels\n",
    "test = dataset.loc[ dataset['label'] == 'test', dataset.columns != 'overdose_rank' ].copy()\n",
    "\n",
    "cols = list(test.columns) #get list of columns\n",
    "#remove features we don't want to train on\n",
    "cols.remove('geoid') \n",
    "cols.remove('label')\n",
    "cols.remove('full_period')\n",
    "\n",
    "#create nodes\n",
    "x_test = test.loc[ : , cols].to_numpy() #convert to array\n",
    "\n",
    "#get target variable from 20201\n",
    "y_test = dataset.loc[ dataset['label'] == 'test', 'overdose_rank' ].to_numpy()\n",
    "y_test = np.array([ [y] for y in y_test]) #unnest it and convert to array"
   ]
  },
  {
   "cell_type": "code",
   "execution_count": 10,
   "metadata": {},
   "outputs": [
    {
     "name": "stdout",
     "output_type": "stream",
     "text": [
      "tensor(0.1054, dtype=torch.float64, grad_fn=<MseLossBackward>)\n",
      "0.0277304557090291\n"
     ]
    }
   ],
   "source": [
    "best_model = Net().to(device)\n",
    "best_model.load_state_dict(best_model_state) #call the best saved model\n",
    "best_model.eval()\n",
    "\n",
    "#convert data to tensors\n",
    "x_test_t = torch.tensor(x_test, dtype = torch.double)\n",
    "y_test_t = torch.tensor(y_test, dtype = torch.double)\n",
    "\n",
    "test_pred = best_model(x_test_t, x_test_t) #predict on features with graph based on features (x,c)\n",
    "test_loss = F.mse_loss(test_pred, y_test_t)\n",
    "print(test_loss)\n",
    "\n",
    "predictions = test_pred.detach().numpy() #convert to array\n",
    "predictions = np.array([x[0] for x in predictions]) #unnest\n",
    "results, df = evaluator(predictions, geoids, 20201, num_periods_predicted =1, eval_index = 1, simple = True)\n",
    "df.to_csv('outputs/GCN.csv')"
   ]
  },
  {
   "cell_type": "code",
   "execution_count": null,
   "metadata": {},
   "outputs": [],
   "source": []
  }
 ],
 "metadata": {
  "kernelspec": {
   "display_name": "Python 3",
   "language": "python",
   "name": "python3"
  },
  "language_info": {
   "codemirror_mode": {
    "name": "ipython",
    "version": 3
   },
   "file_extension": ".py",
   "mimetype": "text/x-python",
   "name": "python",
   "nbconvert_exporter": "python",
   "pygments_lexer": "ipython3",
   "version": "3.9.5"
  }
 },
 "nbformat": 4,
 "nbformat_minor": 4
}
