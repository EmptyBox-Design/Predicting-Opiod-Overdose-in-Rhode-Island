{
 "cells": [
  {
   "cell_type": "markdown",
   "metadata": {},
   "source": [
    "# Best GB Model"
   ]
  },
  {
   "cell_type": "markdown",
   "metadata": {},
   "source": [
    "This is the best GB model. The model was trained/tuned in the following ways:\n",
    "training set: 20162 - 20182\n",
    "validation sets: 20191 - 20192\n",
    "test set: 20201\n",
    "\n",
    "model val average LC20 (20192 & 20192): 37.8%\n",
    "model test LC20: 40.1%\n",
    "\n",
    "The function to recreate this dataset for these models is provided. The original datasets for training and testing are also provided."
   ]
  },
  {
   "cell_type": "code",
   "execution_count": 1,
   "metadata": {},
   "outputs": [],
   "source": [
    "from CUSP_functions import generate_featureset\n",
    "from CUSP_functions import evaluator\n",
    "from CUSP_functions import lc20_scorer\n",
    "from xgboost import XGBRegressor\n",
    "import pandas as pd\n",
    "import numpy as np\n",
    "from sklearn.metrics import r2_score, mean_squared_error, make_scorer\n",
    "from sklearn.model_selection import train_test_split, GridSearchCV, KFold, PredefinedSplit, cross_val_score\n",
    "from sklearn.pipeline import Pipeline\n",
    "path = 'data/'"
   ]
  },
  {
   "cell_type": "markdown",
   "metadata": {},
   "source": [
    "## generate dataset"
   ]
  },
  {
   "cell_type": "markdown",
   "metadata": {},
   "source": [
    "## global parameters"
   ]
  },
  {
   "cell_type": "code",
   "execution_count": 2,
   "metadata": {},
   "outputs": [],
   "source": [
    "train_periods = [20162, 20171, 20172, 20181, 20182, 20191, 20192]\n",
    "test_period = [20201]"
   ]
  },
  {
   "cell_type": "markdown",
   "metadata": {},
   "source": [
    "# Best model\n",
    "\n",
    "## dataset parameters:\n",
    "includes all 'A' set features\n",
    "includes moving rolling average\n",
    "predicting normalized rank, with 'min' method applied for ties\n",
    "does not have any spatial aggregatioon \n",
    "standardization and kernel PCA with 8 degree poly kernel\n",
    "\n",
    "The original dataset for training was: dataset_v4_0711_160345_A_rank_stand_kpca_roll_shift_min.pkl\n",
    "\n",
    "This dataset can be generated using featureset_generatore_v3 and the following params."
   ]
  },
  {
   "cell_type": "code",
   "execution_count": 3,
   "metadata": {},
   "outputs": [
    {
     "data": {
      "image/png": "[encoded data removed]",
      "text/plain": [
       "<Figure size 432x288 with 1 Axes>"
      ]
     },
     "metadata": {
      "needs_background": "light"
     },
     "output_type": "display_data"
    },
    {
     "name": "stdout",
     "output_type": "stream",
     "text": [
      "dataset_v4_0726_203439_A_rank_stand_kpca_roll_shift_min.pkl\n",
      "total_features: 145\n"
     ]
    }
   ],
   "source": [
    "#generate dataset\n",
    "dataset_1 = generate_featureset('A', 'rank', 'pkl', scale = 'standardize', roll_avg = True, \n",
    "                    pca = 'kpca', shift = True, train_periods = train_periods,\n",
    "                   test_periods = test_period, ties = 'min', geo = False, spatial = False)"
   ]
  },
  {
   "cell_type": "code",
   "execution_count": 6,
   "metadata": {},
   "outputs": [
    {
     "name": "stdout",
     "output_type": "stream",
     "text": [
      "0.04386535721657259\n"
     ]
    }
   ],
   "source": [
    "#set the columns that we don't want (not all of these cols are in the dataset, but just to be safe check all)\n",
    "exclude = ['year', 'period', 'period_geoid', 'overdose_count','label', 'y', 'x_coord', 'y_coord']\n",
    "dataset_1 = dataset_1.loc[ : , ~dataset_1.columns.isin(exclude) ]\n",
    "\n",
    "target_var = 'overdose_rank' #set target variable\n",
    "\n",
    "num_components = 16 #set number of components - optimal number determined via validation set performance\n",
    "comp_list = ['pc' + str(i) for i in range(1, num_components + 1)] #create list for filtering components\n",
    "\n",
    "#separate training and test sets\n",
    "X_train_1 = dataset_1.loc[ dataset_1.full_period.isin(train_periods) , comp_list]\n",
    "y_train_1 = dataset_1.loc[ dataset_1.full_period.isin(train_periods) , target_var]\n",
    "\n",
    "X_test_1 = dataset_1.loc[ dataset_1.full_period.isin(test_period) ,  comp_list ]\n",
    "y_test_1 = dataset_1.loc[ dataset_1.full_period.isin(test_period) , target_var ]\n",
    "\n",
    "#extract geoids from test set for evaluation\n",
    "y_test_1_geoid = dataset_1.loc[ dataset_1.full_period.isin(test_period) , 'geoid' ].to_numpy()\n",
    "\n",
    "#run model with best params\n",
    "regr = XGBRegressor(random_state = 123,\n",
    "                            max_depth = 2,\n",
    "                            subsample = 0.5,\n",
    "                            min_child_weight = 4,\n",
    "                            n_estimators = 100,\n",
    "                            eta = 0.05)\n",
    "\n",
    "regr.fit(X_train_1, y_train_1) #fit to data\n",
    "\n",
    "# predicting rank percentile\n",
    "y_test_1_predict = regr.predict(X_test_1)\n",
    "\n",
    "#run through evaluator\n",
    "test_acc, targets_df = evaluator(y_test_1_predict, y_test_1_geoid, test_period[0], num_periods_predicted =1, eval_index = 1, simple = True)\n"
   ]
  },
  {
   "cell_type": "code",
   "execution_count": 7,
   "metadata": {},
   "outputs": [
    {
     "data": {
      "text/html": [
       "<div>\n",
       "<style scoped>\n",
       "    .dataframe tbody tr th:only-of-type {\n",
       "        vertical-align: middle;\n",
       "    }\n",
       "\n",
       "    .dataframe tbody tr th {\n",
       "        vertical-align: top;\n",
       "    }\n",
       "\n",
       "    .dataframe thead th {\n",
       "        text-align: right;\n",
       "    }\n",
       "</style>\n",
       "<table border=\"1\" class=\"dataframe\">\n",
       "  <thead>\n",
       "    <tr style=\"text-align: right;\">\n",
       "      <th></th>\n",
       "      <th>UC</th>\n",
       "      <th>LC</th>\n",
       "    </tr>\n",
       "    <tr>\n",
       "      <th>% targeted</th>\n",
       "      <th></th>\n",
       "      <th></th>\n",
       "    </tr>\n",
       "  </thead>\n",
       "  <tbody>\n",
       "    <tr>\n",
       "      <th>5%</th>\n",
       "      <td>13.4</td>\n",
       "      <td>10.2</td>\n",
       "    </tr>\n",
       "    <tr>\n",
       "      <th>10%</th>\n",
       "      <td>26.2</td>\n",
       "      <td>21.9</td>\n",
       "    </tr>\n",
       "    <tr>\n",
       "      <th>15%</th>\n",
       "      <td>33.7</td>\n",
       "      <td>34.2</td>\n",
       "    </tr>\n",
       "    <tr>\n",
       "      <th>20%</th>\n",
       "      <td>38.5</td>\n",
       "      <td>40.1</td>\n",
       "    </tr>\n",
       "  </tbody>\n",
       "</table>\n",
       "</div>"
      ],
      "text/plain": [
       "              UC    LC\n",
       "% targeted            \n",
       "5%          13.4  10.2\n",
       "10%         26.2  21.9\n",
       "15%         33.7  34.2\n",
       "20%         38.5  40.1"
      ]
     },
     "execution_count": 7,
     "metadata": {},
     "output_type": "execute_result"
    }
   ],
   "source": [
    "test_acc.head()"
   ]
  },
  {
   "cell_type": "markdown",
   "metadata": {},
   "source": [
    "# To tune a new model"
   ]
  },
  {
   "cell_type": "markdown",
   "metadata": {},
   "source": [
    "The above model uses the best parameters found using the below tuning method. If a model with new tuning is desired, use the below code block. The current parameter grid takes 1.2-2.5 hours to run."
   ]
  },
  {
   "cell_type": "code",
   "execution_count": null,
   "metadata": {},
   "outputs": [],
   "source": [
    "target_var = 'overdose_rank'\n",
    "\n",
    "#specify number of components\n",
    "num_components = 16\n",
    "comp_list = ['pc' + str(i) for i in range(1, num_components + 1)]\n",
    "\n",
    "full_rf = dataset.copy()\n",
    "full_rf['y'] = full_rf['overdose_rank'] #separate out target\n",
    "full_rf['period_geoid'] = full_rf['full_period'].astype(str) + '_' +  full_rf['geoid'].astype(str) #this is going to be passed into the custom scorer as the \"signal\" - period and geoid\n",
    "full_rf.set_index('period_geoid', inplace = True)\n",
    "\n",
    "# to make sure each period's record stay together\n",
    "full_rf.sort_index(ascending = True, inplace = True)\n",
    "\n",
    "train_val_period = [20162, 20171, 20172, 20181, 20182, 20191, 20192] #inclusive of validation periods\n",
    "test_period = [20201]\n",
    "val_periods = [20191, 20192]\n",
    "\n",
    "#seprate out features we definitely don't want, just to be safe\n",
    "not_include = ['year', 'period', 'geoid', 'full_period', 'period_geoid', 'overdose_rank', 'overdose_count','label', 'y', 'x_coord', 'y_coord']\n",
    "\n",
    "#get combined training and validation set\n",
    "X_train_val = full_rf[full_rf.full_period.isin(train_val_period)].loc[:, comp_list]\n",
    "y_train_val = full_rf[full_rf.full_period.isin(train_val_period)].loc[:, 'y']\n",
    "\n",
    "#get test set\n",
    "X_test = full_rf[full_rf.full_period.isin(test_period)].loc[:,  comp_list]\n",
    "y_test_geoid = full_rf[full_rf.full_period.isin(test_period)].loc[:, 'geoid'].to_numpy()\n",
    "y_test = full_rf[full_rf.full_period.isin(test_period)].loc[:, 'y']\n",
    "\n",
    "pipeline = Pipeline([('XGBoost', XGBRegressor(random_state = 123))])\n",
    "\n",
    "#this can be tweaked to include a wider range of parameters but will take longer to complete\n",
    "parameters = {'XGBoost__eta': [0.001, 0.01, 0.05, .1],\n",
    "              'XGBoost__n_estimators': [100, 150, 200],\n",
    "              'XGBoost__min_child_weight': range(1,6, 1),\n",
    "              'XGBoost__subsample': [0.5, 1.],\n",
    "              'XGBoost__max_depth': range(1, 6, 1)\n",
    "             }\n",
    "    \n",
    "lc20 = make_scorer(lc20_scorer, greater_is_better = True) #instantiate lc20 scorer for validaton\n",
    "\n",
    "num_train_periods = len(train_val_period)\n",
    "num_val_periods = len(val_periods) * 2\n",
    "train_val_split = [-1 for i in range(0, 811*(num_train_periods - 2))] + [0 for i in range(num_val_periods)] #indicate the split\n",
    "\n",
    "cv = PredefinedSplit(test_fold = train_val_split )\n",
    "#cv = KFold(n_splits = 2, shuffle = False)\n",
    "\n",
    "grid_search = GridSearchCV(pipeline, parameters, verbose = 10,  cv = cv, n_jobs = 24, scoring = lc20)\n",
    "grid_search.fit(X_train_val, y_train_val)\n",
    "print(grid_search.best_score_)\n",
    "print(grid_search.best_params_)"
   ]
  },
  {
   "cell_type": "code",
   "execution_count": null,
   "metadata": {},
   "outputs": [],
   "source": [
    "#call best estimator\n",
    "best_regr = grid_search.best_estimator_\n",
    "\n",
    "# predicting rank percentile\n",
    "y_test_predict = best_regr.predict(X_test)\n",
    "\n",
    "# evaluating the test\n",
    "y_test_predict_df = pd.DataFrame({'geoid': y_test_geoid, 'y': y_test_predict})\n",
    "\n",
    "test_acc, df = evaluator(y_test_predict, np.array(y_test_geoid), test_period[0], num_periods_predicted = 1, eval_index = 1)\n",
    "capture = test_acc.loc['20%', 'LC']\n",
    "print(capture)"
   ]
  }
 ],
 "metadata": {
  "kernelspec": {
   "display_name": "Python 3",
   "language": "python",
   "name": "python3"
  },
  "language_info": {
   "codemirror_mode": {
    "name": "ipython",
    "version": 3
   },
   "file_extension": ".py",
   "mimetype": "text/x-python",
   "name": "python",
   "nbconvert_exporter": "python",
   "pygments_lexer": "ipython3",
   "version": "3.6.10"
  }
 },
 "nbformat": 4,
 "nbformat_minor": 4
}
